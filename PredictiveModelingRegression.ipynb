{
 "cells": [
  {
   "cell_type": "markdown",
   "metadata": {},
   "source": [
    "## Predictive Modeling: Using Regression models to predict price of used cars.\n",
    "This project aims to show the process of creating Machine Learning models based on Simple, Multiple and Polynomial Regressions.\n",
    "In this project, R2 is used to evaluate the performance of the models. Pearson Coeficient's P-Value of <= 0.05 rejects the null hypotesis."
   ]
  },
  {
   "cell_type": "code",
   "execution_count": 1,
   "metadata": {},
   "outputs": [],
   "source": [
    "import pandas as pd\n",
    "import numpy as np\n",
    "from matplotlib import pyplot as plt\n",
    "%matplotlib inline\n",
    "import seaborn as sns\n",
    "from scipy import stats\n",
    "from sklearn.linear_model import LinearRegression\n",
    "from sklearn.metrics import r2_score\n",
    "import ipywidgets as widgets\n",
    "from ipywidgets import interact, interact_manual\n",
    "import IPython.display\n",
    "from IPython.display import display, clear_output"
   ]
  },
  {
   "cell_type": "code",
   "execution_count": 2,
   "metadata": {},
   "outputs": [],
   "source": [
    "def ETL(pathfile):\n",
    "    df = pd.read_csv(pathfile)\n",
    "    df['car_name'] = df['manufacturer_name'] + '-' + df['model_name']\n",
    "    df = df[df['price_usd'] > 0]\n",
    "    lista = []                                              #\n",
    "    for car in list(set(df['car_name'])):                   #\n",
    "        if len(df[df['car_name'] == car]) < 20:             #\n",
    "            lista.append(car)                               # Removing cars that appear less than 20 times.\n",
    "    indexes = df[df['car_name'].isin(lista)].index          #\n",
    "    df = df.drop(index=indexes)                             #\n",
    "    return df.drop(['feature_1','feature_2','feature_3','feature_4','feature_5','feature_6','feature_7','feature_8','feature_9','duration_listed','engine_has_gas','engine_type','has_warranty','is_exchangeable','location_region','number_of_photos','body_type','up_counter','feature_0','manufacturer_name','model_name'],axis=1)\n",
    "\n",
    "#ETL e Data Cleaning\n",
    "def PrepData(df,carname):\n",
    "    df = df[df['car_name'] == carname]\n",
    "    for column in df.columns:\n",
    "        if (df[column].values == df[column].values[0]).all():\n",
    "            df = df.drop(columns=column)\n",
    "    TargetVar = df['price_usd']\n",
    "    df = df.drop(columns=['price_usd'],axis=1)\n",
    "    df.insert(0,'price_usd',TargetVar)\n",
    "    dfobject = df.select_dtypes(include='object')\n",
    "    df = df.select_dtypes(exclude='object')\n",
    "    dummiesdf = pd.get_dummies(dfobject)\n",
    "    mergeddf = pd.merge(df,dummiesdf,left_index=True,right_index=True)\n",
    "    targetcol = mergeddf['price_usd']                                                            \n",
    "    return mergeddf, dfobject, targetcol\n",
    "\n",
    "#Analysis Function\n",
    "def PlotandAnalysis(df,BPdfobj,targetcol,polydegrees):\n",
    "    def BoxplotObjects(BPdfobj,targetcol): ## Show counts on plot ##better show car colors\n",
    "        fig, axs = plt.subplots(ncols=len(list(BPdfobj)), figsize=(16,4),sharey=True)\n",
    "        t = 0\n",
    "        for column in list(BPdfobj):\n",
    "            sns.boxplot(x=BPdfobj[column],y=targetcol,data=BPdfobj, ax=axs[t])\n",
    "            t += 1\n",
    "        plt.show()\n",
    "        plt.close()\n",
    "\n",
    "    #Simple Linear Regression Model and Plot\n",
    "    def SLRModelandPlot(df,targetcol):\n",
    "        x = df[[NLargAbsCoef(df,1)[0]]].values\n",
    "        m = LinearRegression().fit(x,targetcol)\n",
    "        fig, axs = plt.subplots(ncols=2, figsize=(16,4))\n",
    "        ax0 = sns.regplot(x=x,y=targetcol,data=df,ax=axs[0])\n",
    "        ax1 = sns.residplot(x=x,y=targetcol,data=df,ax=axs[1])\n",
    "        ax0.set_ylim(0,)\n",
    "        ax0.set_xlim(x.min(),)\n",
    "        plt.show()\n",
    "        plt.close()\n",
    "        print('Simple Linear Regression Model Equation:\\n',m.intercept_,'+',float(m.coef_),'*',targetcol.name)\n",
    "        return x,m\n",
    "\n",
    "    #Multiple Linear Regression Model and Plot\n",
    "    def MLRModelandPlot(df,targetcol,): #adapt to get max num of var and better show model equation\n",
    "        x = df[AllCoef(df)].values\n",
    "        m = LinearRegression().fit(x,targetcol)\n",
    "        plt.figure(figsize=(16,4))\n",
    "        ax1 = sns.kdeplot(targetcol, color=\"r\", label=\"Actual Value\")\n",
    "        sns.kdeplot(m.predict(x), color=\"b\", label=\"Predicted Values\", ax=ax1)\n",
    "        plt.title('Actual (red) vs Predicted (blue) Price')\n",
    "        plt.xlabel('Price')\n",
    "        plt.ylabel('Proportion of Cars')\n",
    "        plt.xlim(0,)\n",
    "        plt.show()\n",
    "        plt.close()\n",
    "        print(\"MLR Intercept:\",m.intercept_)\n",
    "        print(\"MLR Coefs:\",list(m.coef_))\n",
    "        return x,m\n",
    "\n",
    "    #Polynomial Regression Model and Plot\n",
    "    def PlotPR(df,targetcol,polydegrees): #adapt to get best degree\n",
    "        x = df[NLargAbsCoef(df,1)[0]].values\n",
    "        m = np.poly1d(np.polyfit(x, targetcol, polydegrees))\n",
    "        x_new = np.linspace(x.min(),x.max())\n",
    "        y_new = m(x_new)\n",
    "        plt.plot(x, targetcol, '.', x_new, y_new, '-')\n",
    "        ax = plt.gca()\n",
    "        ax.set_facecolor((0.898, 0.898, 0.898))\n",
    "        fig = plt.gcf()\n",
    "        plt.show()\n",
    "        plt.close()\n",
    "        print('Polynomial Regression Model Equation:\\n',m)\n",
    "        return x,m\n",
    "\n",
    "    #R2 calculation\n",
    "    def R2(realY,predictY):\n",
    "        return r2_score(realY,predictY)\n",
    "\n",
    "    #Comparison of best model by R2 criteria\n",
    "    def ModelComparison(x1,m1,x2,m2,x3,m3,targetcol):\n",
    "        print('\\n-------------------------------------------------------------------\\n')\n",
    "        md = ['Simple Linear Regression','Multiple Linear Regression','Polynomial Regression']\n",
    "        preds = [m1.predict(x1),m2.predict(x2),m3(x3)]\n",
    "        bestr2 = 0\n",
    "        for pred, q in zip(list(preds), md):\n",
    "            r2 = R2(targetcol,pred)\n",
    "            print(q,'R2:',r2)\n",
    "            if r2 > bestr2:\n",
    "                bestr2 = r2\n",
    "                bestq = q\n",
    "        print('\\nBest model by R2 is',bestq,'with R2 of',bestr2)\n",
    "\n",
    "    BoxplotObjects(BPdfobj,targetcol)\n",
    "    slrx, slrm = SLRModelandPlot(df,targetcol)\n",
    "    mlrx, mlrm = MLRModelandPlot(df,targetcol)\n",
    "    prx, prm = PlotPR(df,targetcol,polydegrees)\n",
    "    ModelComparison(slrx,slrm,mlrx,mlrm,prx,prm,targetcol)"
   ]
  },
  {
   "cell_type": "code",
   "execution_count": 3,
   "metadata": {},
   "outputs": [],
   "source": [
    "#Pearson coefficient calculation\n",
    "def CoefPearson(df):\n",
    "    lcoef = []\n",
    "    lp = []\n",
    "    for col in list(df.columns):\n",
    "        coef, p = stats.pearsonr(df[col],df['price_usd'])\n",
    "        lcoef.append(coef)\n",
    "        lp.append(round(p,3))\n",
    "    df = pd.DataFrame(lcoef).merge(pd.DataFrame(lp),on=df.columns).rename(columns={'key_0':'IndependentVar','0_x':'PearsonCoef','0_y':'P-Value'}).drop([0])\n",
    "    return df[df['P-Value'] <= 0.05].reset_index(drop=True)\n",
    "\n",
    "#Listing n independent variables with p <= 0.05\n",
    "def NLargAbsCoef(df,n):\n",
    "    df = CoefPearson(df)\n",
    "    df = df.loc[df['PearsonCoef'].abs().nlargest(1,keep='first').index]\n",
    "    return list(df['IndependentVar'])\n",
    "\n",
    "#Listing all indepedent variables with p <= 0.05\n",
    "def AllCoef(df):\n",
    "    df = CoefPearson(df)\n",
    "    return list(df['IndependentVar'])"
   ]
  },
  {
   "cell_type": "code",
   "execution_count": 4,
   "metadata": {},
   "outputs": [],
   "source": [
    "def car_selector(pathfile):\n",
    "    data = ETL(pathfile)\n",
    "    dropdown_manufacturer = widgets.Dropdown(options = sorted(list(set(data['car_name']))))\n",
    "    output = widgets.Output()\n",
    "\n",
    "    def output_by_manufacturer(df,carname):\n",
    "        with output:\n",
    "            IPython.display.clear_output(wait=True)\n",
    "            display(PlotandAnalysis(*PrepData(df,carname),4))     \n",
    "\n",
    "    def dropdown_state_eventhandler(change):\n",
    "            display(input_widgets)\n",
    "            output_by_manufacturer(data,change.new) \n",
    "\n",
    "    dropdown_manufacturer.observe(dropdown_state_eventhandler, names='value')\n",
    "    input_widgets = widgets.HBox([dropdown_manufacturer])\n",
    "    display(input_widgets,output)"
   ]
  },
  {
   "cell_type": "code",
   "execution_count": 5,
   "metadata": {},
   "outputs": [
    {
     "data": {
      "application/vnd.jupyter.widget-view+json": {
       "model_id": "dca7c76c4fca46d4a2feab4d221a7e4c",
       "version_major": 2,
       "version_minor": 0
      },
      "text/plain": [
       "HBox(children=(Dropdown(options=('Acura-MDX', 'Alfa Romeo-146', 'Alfa Romeo-156', 'Alfa Romeo-166', 'Audi-100'…"
      ]
     },
     "metadata": {},
     "output_type": "display_data"
    },
    {
     "data": {
      "application/vnd.jupyter.widget-view+json": {
       "model_id": "b9cca20b0b29439386528bc5db91056d",
       "version_major": 2,
       "version_minor": 0
      },
      "text/plain": [
       "Output()"
      ]
     },
     "metadata": {},
     "output_type": "display_data"
    }
   ],
   "source": [
    "car_selector('../PredictiveModelingRegression/cars.csv')"
   ]
  }
 ],
 "metadata": {
  "kernelspec": {
   "display_name": "Python 3.9.0 64-bit",
   "language": "python",
   "name": "python3"
  },
  "language_info": {
   "codemirror_mode": {
    "name": "ipython",
    "version": 3
   },
   "file_extension": ".py",
   "mimetype": "text/x-python",
   "name": "python",
   "nbconvert_exporter": "python",
   "pygments_lexer": "ipython3",
   "version": "3.9.0"
  },
  "orig_nbformat": 4,
  "vscode": {
   "interpreter": {
    "hash": "06ae1dda8fee8c8bf6dfcdcb636c895090d29abf4576d9b794df1ec2743d0fa6"
   }
  }
 },
 "nbformat": 4,
 "nbformat_minor": 2
}
